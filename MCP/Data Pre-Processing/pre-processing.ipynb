{
 "cells": [
  {
   "cell_type": "code",
   "execution_count": 1,
   "id": "0807ec7e",
   "metadata": {},
   "outputs": [
    {
     "name": "stdout",
     "output_type": "stream",
     "text": [
      "Combined dataset saved to D:\\MCP\\Data Pre-Processing\\phishing_dataset.csv\n"
     ]
    }
   ],
   "source": [
    "import json\n",
    "import pandas as pd\n",
    "\n",
    "# File paths\n",
    "legit_path = r\"D:\\MCP\\Data Pre-Processing\\data_legitimate_36400.json\"\n",
    "phish_path = r\"D:\\MCP\\Data Pre-Processing\\data_phishing_37175.json\"\n",
    "output_path = r\"D:\\MCP\\Data Pre-Processing\\phishing_dataset.csv\"\n",
    "\n",
    "# Load JSON data\n",
    "with open(legit_path, 'r', encoding='utf-8') as f:\n",
    "    legit_data = json.load(f)\n",
    "\n",
    "with open(phish_path, 'r', encoding='utf-8') as f:\n",
    "    phish_data = json.load(f)\n",
    "\n",
    "# Convert to DataFrames and add labels\n",
    "df_legit = pd.DataFrame(legit_data)\n",
    "df_legit['label'] = 0  # Legitimate\n",
    "\n",
    "df_phish = pd.DataFrame(phish_data)\n",
    "df_phish['label'] = 1  # Phishing\n",
    "\n",
    "# Combine both datasets\n",
    "df_combined = pd.concat([df_legit, df_phish], ignore_index=True)\n",
    "\n",
    "# Save as CSV\n",
    "df_combined.to_csv(output_path, index=False)\n",
    "\n",
    "print(f\"Combined dataset saved to {output_path}\")\n"
   ]
  }
 ],
 "metadata": {
  "kernelspec": {
   "display_name": "Python 3",
   "language": "python",
   "name": "python3"
  },
  "language_info": {
   "codemirror_mode": {
    "name": "ipython",
    "version": 3
   },
   "file_extension": ".py",
   "mimetype": "text/x-python",
   "name": "python",
   "nbconvert_exporter": "python",
   "pygments_lexer": "ipython3",
   "version": "3.12.10"
  }
 },
 "nbformat": 4,
 "nbformat_minor": 5
}
